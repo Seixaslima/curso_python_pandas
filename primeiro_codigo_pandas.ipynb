{
  "nbformat": 4,
  "nbformat_minor": 0,
  "metadata": {
    "colab": {
      "provenance": [],
      "authorship_tag": "ABX9TyMzZYCOeK0T8lwOO5Z5aNwX",
      "include_colab_link": true
    },
    "kernelspec": {
      "name": "python3",
      "display_name": "Python 3"
    },
    "language_info": {
      "name": "python"
    }
  },
  "cells": [
    {
      "cell_type": "markdown",
      "metadata": {
        "id": "view-in-github",
        "colab_type": "text"
      },
      "source": [
        "<a href=\"https://colab.research.google.com/github/Seixaslima/curso_python_pandas/blob/main/primeiro_codigo_pandas.ipynb\" target=\"_parent\"><img src=\"https://colab.research.google.com/assets/colab-badge.svg\" alt=\"Open In Colab\"/></a>"
      ]
    },
    {
      "cell_type": "markdown",
      "source": [
        "**primeiro codigo de manipulação de dados com python panda** \\\\\n",
        "**Autor:** Lucas Seixas \\\\\n",
        "**Data:** 06/02/2023"
      ],
      "metadata": {
        "id": "hNBOpGf8VqHT"
      }
    },
    {
      "cell_type": "code",
      "execution_count": 2,
      "metadata": {
        "id": "Xc0c_qU2BLsB"
      },
      "outputs": [],
      "source": [
        "#Importando biblioteca pandas no Python\n",
        "import pandas as pd\n",
        "\n",
        "combustiveis_df = pd.read_csv(\"\")"
      ]
    }
  ]
}