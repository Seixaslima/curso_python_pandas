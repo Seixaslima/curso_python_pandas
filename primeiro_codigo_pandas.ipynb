{
  "nbformat": 4,
  "nbformat_minor": 0,
  "metadata": {
    "colab": {
      "provenance": [],
      "mount_file_id": "1kTELPBNjlc7tCJzSsWDx6-PDE8AxLb1f",
      "authorship_tag": "ABX9TyNXYGeYRWTs2zuHEjZ6Vow1",
      "include_colab_link": true
    },
    "kernelspec": {
      "name": "python3",
      "display_name": "Python 3"
    },
    "language_info": {
      "name": "python"
    }
  },
  "cells": [
    {
      "cell_type": "markdown",
      "metadata": {
        "id": "view-in-github",
        "colab_type": "text"
      },
      "source": [
        "<a href=\"https://colab.research.google.com/github/Seixaslima/curso_python_pandas/blob/main/primeiro_codigo_pandas.ipynb\" target=\"_parent\"><img src=\"https://colab.research.google.com/assets/colab-badge.svg\" alt=\"Open In Colab\"/></a>"
      ]
    },
    {
      "cell_type": "markdown",
      "source": [
        "**primeiro codigo de manipulação de dados com python panda** \\\\\n",
        "**Autor:** Lucas Seixas \\\\\n",
        "**Data:** 06/02/2023"
      ],
      "metadata": {
        "id": "hNBOpGf8VqHT"
      }
    },
    {
      "cell_type": "code",
      "execution_count": 15,
      "metadata": {
        "id": "Xc0c_qU2BLsB",
        "colab": {
          "base_uri": "https://localhost:8080/"
        },
        "outputId": "d0675541-03dd-41ed-f8e5-10e217788c6c"
      },
      "outputs": [
        {
          "output_type": "stream",
          "name": "stdout",
          "text": [
            "       Regiao - Sigla Estado - Sigla   Municipio  \\\n",
            "0                   N             AC  RIO BRANCO   \n",
            "1                   N             AC  RIO BRANCO   \n",
            "2                   N             AC  RIO BRANCO   \n",
            "3                   N             AC  RIO BRANCO   \n",
            "4                   N             AC  RIO BRANCO   \n",
            "...               ...            ...         ...   \n",
            "529419             CO             MT      CUIABA   \n",
            "529420             NE             MA      CAXIAS   \n",
            "529421             NE             MA      CAXIAS   \n",
            "529422             NE             MA      CAXIAS   \n",
            "529423             NE             MA      CAXIAS   \n",
            "\n",
            "                                     Revenda      CNPJ da Revenda  \\\n",
            "0                  AUTO POSTO AMAPA - EIRELI   00.529.581/0001-53   \n",
            "1                  AUTO POSTO AMAPA - EIRELI   00.529.581/0001-53   \n",
            "2                  AUTO POSTO AMAPA - EIRELI   00.529.581/0001-53   \n",
            "3                  AUTO POSTO AMAPA - EIRELI   00.529.581/0001-53   \n",
            "4                  AUTO POSTO AMAPA - EIRELI   00.529.581/0001-53   \n",
            "...                                      ...                  ...   \n",
            "529419   OZ REVENDEDORA DE COMBUSTIVEIS LTDA   36.757.198/0001-08   \n",
            "529420  POSTAO COMERCIO DE COMBUSTIVEIS LTDA   31.597.569/0001-00   \n",
            "529421  POSTAO COMERCIO DE COMBUSTIVEIS LTDA   31.597.569/0001-00   \n",
            "529422  POSTAO COMERCIO DE COMBUSTIVEIS LTDA   31.597.569/0001-00   \n",
            "529423  POSTAO COMERCIO DE COMBUSTIVEIS LTDA   31.597.569/0001-00   \n",
            "\n",
            "                    Nome da Rua Numero Rua                        Complemento  \\\n",
            "0              VIA CHICO MENDES       3570                                NaN   \n",
            "1              VIA CHICO MENDES       3570                                NaN   \n",
            "2              VIA CHICO MENDES       3570                                NaN   \n",
            "3              VIA CHICO MENDES       3570                                NaN   \n",
            "4              VIA CHICO MENDES       3570                                NaN   \n",
            "...                         ...        ...                                ...   \n",
            "529419  AVENIDA SENADOR METELLO        868                                NaN   \n",
            "529420           RODOVIA BR-316        S/N  KM    552                 SALA  A   \n",
            "529421           RODOVIA BR-316        S/N  KM    552                 SALA  A   \n",
            "529422           RODOVIA BR-316        S/N  KM    552                 SALA  A   \n",
            "529423           RODOVIA BR-316        S/N  KM    552                 SALA  A   \n",
            "\n",
            "               Bairro        Cep             Produto Data da Coleta  \\\n",
            "0               AREAL  69906-119            GASOLINA     03/01/2022   \n",
            "1               AREAL  69906-119              ETANOL     03/01/2022   \n",
            "2               AREAL  69906-119              DIESEL     03/01/2022   \n",
            "3               AREAL  69906-119  GASOLINA ADITIVADA     03/01/2022   \n",
            "4               AREAL  69906-119          DIESEL S10     03/01/2022   \n",
            "...               ...        ...                 ...            ...   \n",
            "529419     CENTRO-SUL  78020-600            GASOLINA     30/06/2022   \n",
            "529420  VOLTA REDONDA  65606-525  GASOLINA ADITIVADA     30/06/2022   \n",
            "529421  VOLTA REDONDA  65606-525          DIESEL S10     30/06/2022   \n",
            "529422  VOLTA REDONDA  65606-525              DIESEL     30/06/2022   \n",
            "529423  VOLTA REDONDA  65606-525            GASOLINA     30/06/2022   \n",
            "\n",
            "       Valor de Venda  Valor de Compra Unidade de Medida       Bandeira  \n",
            "0                6,99              NaN        R$ / litro  VIBRA ENERGIA  \n",
            "1                5,99              NaN        R$ / litro  VIBRA ENERGIA  \n",
            "2                6,09              NaN        R$ / litro  VIBRA ENERGIA  \n",
            "3                7,05              NaN        R$ / litro  VIBRA ENERGIA  \n",
            "4                6,12              NaN        R$ / litro  VIBRA ENERGIA  \n",
            "...               ...              ...               ...            ...  \n",
            "529419           6,49              NaN        R$ / litro         BRANCA  \n",
            "529420           6,99              NaN        R$ / litro         BRANCA  \n",
            "529421           7,59              NaN        R$ / litro         BRANCA  \n",
            "529422           7,55              NaN        R$ / litro         BRANCA  \n",
            "529423           6,99              NaN        R$ / litro         BRANCA  \n",
            "\n",
            "[529424 rows x 16 columns]\n"
          ]
        }
      ],
      "source": [
        "#Importando biblioteca pandas no Python\n",
        "import pandas as pd\n",
        "\n",
        "combustiveis_df = pd.read_csv(\"drive/MyDrive/python-pandas/precos-semestrais-ca-2022-01.csv\",sep=\";\")\n",
        "print(combustiveis_df)"
      ]
    }
  ]
}