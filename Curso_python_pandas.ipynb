{
  "nbformat": 4,
  "nbformat_minor": 0,
  "metadata": {
    "colab": {
      "provenance": [],
      "mount_file_id": "https://github.com/Seixaslima/curso_python_pandas/blob/main/segundo_dia_codigo_pandas.ipynb",
      "authorship_tag": "ABX9TyNEKScdVc/J3fHtN0Jr8luL",
      "include_colab_link": true
    },
    "kernelspec": {
      "name": "python3",
      "display_name": "Python 3"
    },
    "language_info": {
      "name": "python"
    }
  },
  "cells": [
    {
      "cell_type": "markdown",
      "metadata": {
        "id": "view-in-github",
        "colab_type": "text"
      },
      "source": [
        "<a href=\"https://colab.research.google.com/github/Seixaslima/curso_python_pandas/blob/main/Curso_python_pandas.ipynb\" target=\"_parent\"><img src=\"https://colab.research.google.com/assets/colab-badge.svg\" alt=\"Open In Colab\"/></a>"
      ]
    },
    {
      "cell_type": "markdown",
      "source": [
        "curso de manipulação de dados com **python panda** \\\\\n",
        "**Autor:** Lucas Seixas \\\\\n",
        "**Data:** 06/02/2023 a 08/02/2023"
      ],
      "metadata": {
        "id": "hNBOpGf8VqHT"
      }
    },
    {
      "cell_type": "code",
      "execution_count": null,
      "metadata": {
        "id": "Xc0c_qU2BLsB"
      },
      "outputs": [],
      "source": [
        "#Importando biblioteca pandas no Python\n",
        "import pandas as pd\n",
        "\n",
        "combustiveis_df = pd.read_csv(\"drive/MyDrive/python-pandas/precos-semestrais-ca-2022-01.csv\",sep=\";\",decimal=',')"
      ]
    },
    {
      "cell_type": "markdown",
      "source": [
        "Comandos para visualizar a base de dados\n",
        "\n",
        "print - nativo do python \\\\\n",
        "display - mostra mais organizado \\\\"
      ],
      "metadata": {
        "id": "rleaYg0yByss"
      }
    },
    {
      "cell_type": "code",
      "source": [
        "print(combustiveis_df)"
      ],
      "metadata": {
        "id": "trRIX1EmBOGv"
      },
      "execution_count": null,
      "outputs": []
    },
    {
      "cell_type": "code",
      "source": [
        "display(combustiveis_df)"
      ],
      "metadata": {
        "id": "IxkV7c4pBWju"
      },
      "execution_count": null,
      "outputs": []
    },
    {
      "cell_type": "code",
      "source": [
        "#mostra as 5 primeiras linhas\n",
        "display(combustiveis_df.head())"
      ],
      "metadata": {
        "id": "ccXwObKSFMjU"
      },
      "execution_count": null,
      "outputs": []
    },
    {
      "cell_type": "code",
      "source": [
        "#mostra as 15 primeiras linhas ao invez das 5\n",
        "display(combustiveis_df.head(15))"
      ],
      "metadata": {
        "id": "cMr-eWoVGDrX"
      },
      "execution_count": null,
      "outputs": []
    },
    {
      "cell_type": "code",
      "source": [
        "#dataframe.shape mostra o numero de (linha, coluna)  dataframe.describe\n",
        "\n",
        "print(combustiveis_df.shape)\n"
      ],
      "metadata": {
        "id": "6gKCCi66I1oL"
      },
      "execution_count": null,
      "outputs": []
    },
    {
      "cell_type": "code",
      "source": [
        "print(combustiveis_df.describe())"
      ],
      "metadata": {
        "id": "5rIlZZEoJ_Gv"
      },
      "execution_count": null,
      "outputs": []
    },
    {
      "cell_type": "code",
      "source": [
        "print(combustiveis_df.info())"
      ],
      "metadata": {
        "id": "iFFtVKJsLn97"
      },
      "execution_count": null,
      "outputs": []
    },
    {
      "cell_type": "code",
      "source": [
        "#filtrar apenas uma coluna\n",
        "display(combustiveis_df['Produto'])\n"
      ],
      "metadata": {
        "id": "L_LdOj47Y2Iw"
      },
      "execution_count": null,
      "outputs": []
    },
    {
      "cell_type": "code",
      "source": [
        "#cria um novo dataFrame com os filtros aplicados\n",
        "ca_df = combustiveis_df[['Municipio','Revenda','Produto','Valor de Venda']]\n",
        "display(ca_df)"
      ],
      "metadata": {
        "id": "YRt5l4OiaKcJ"
      },
      "execution_count": null,
      "outputs": []
    },
    {
      "cell_type": "code",
      "source": [
        "#exibir a linha escolhida .loc[]\n",
        "\n",
        "display(ca_df.loc[4])"
      ],
      "metadata": {
        "id": "rHU2RvZ6cCop"
      },
      "execution_count": null,
      "outputs": []
    },
    {
      "cell_type": "code",
      "source": [
        "#exibir um intervalo de linhas escolhidas\n",
        "\n",
        "display(ca_df.loc[9:19])"
      ],
      "metadata": {
        "id": "zWRW8SM-den9"
      },
      "execution_count": null,
      "outputs": []
    },
    {
      "cell_type": "code",
      "source": [
        "#filtra o dataframe de acordo com certos parametros celecionados\n",
        "#filtramos o DF que o produto é gasolina\n",
        "#e colocamos as colunas Municipio, Revenda, Produto, Valor de Venda\n",
        "\n",
        "gas_df = ca_df[ca_df['Produto'] == 'GASOLINA']\n",
        "\n",
        "display(gas_df)\n",
        "\n",
        "display(gas_df.max())"
      ],
      "metadata": {
        "id": "z-I1ZspfeZhD"
      },
      "execution_count": null,
      "outputs": []
    }
  ]
}